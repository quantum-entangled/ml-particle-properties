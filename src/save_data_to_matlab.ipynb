{
 "cells": [
  {
   "cell_type": "code",
   "execution_count": 6,
   "metadata": {},
   "outputs": [],
   "source": [
    "import numpy as np\n",
    "import scipy.io\n",
    "from sklearn.ensemble import GradientBoostingRegressor\n",
    "from sklearn.multioutput import RegressorChain\n",
    "\n",
    "from mlspecies import ConstructModel"
   ]
  },
  {
   "cell_type": "code",
   "execution_count": 7,
   "metadata": {},
   "outputs": [],
   "source": [
    "name = \"Air5\"\n",
    "property_name = \"EqComp\"\n",
    "temperature = np.linspace(50, 15000, 30000).reshape(-1, 1)\n",
    "estimator = RegressorChain(GradientBoostingRegressor(max_depth=5, random_state=2))\n",
    "\n",
    "model = ConstructModel(\n",
    "    name=name,\n",
    "    property_name=property_name,\n",
    "    temperature_data=temperature,\n",
    "    estimator=estimator,\n",
    "    noise=True,\n",
    ")\n",
    "\n",
    "property_data = model._load_data()\n",
    "X_train, X_test, y_train, y_test = model.split_data()\n",
    "model.train_model(X_train, y_train)\n",
    "y_pred = model.make_predictions(X_test)\n",
    "X_test_sorted, y_pred_sorted = model._sort_and_reshape(X_test, y_pred)"
   ]
  },
  {
   "cell_type": "code",
   "execution_count": 8,
   "metadata": {},
   "outputs": [],
   "source": [
    "scipy.io.savemat('../data/ml_data_noise_false.mat', {'X_test_sorted': X_test_sorted, 'y_pred_sorted': y_pred_sorted, 'T': temperature, 'eq_comp': property_data})"
   ]
  }
 ],
 "metadata": {
  "interpreter": {
   "hash": "cdeb61e181c2b64812bc9cdcc33586594904944a967b32f79dce358a0155c3cc"
  },
  "kernelspec": {
   "display_name": "Python 3.9.7 ('venv': venv)",
   "language": "python",
   "name": "python3"
  },
  "language_info": {
   "codemirror_mode": {
    "name": "ipython",
    "version": 3
   },
   "file_extension": ".py",
   "mimetype": "text/x-python",
   "name": "python",
   "nbconvert_exporter": "python",
   "pygments_lexer": "ipython3",
   "version": "3.9.7"
  },
  "orig_nbformat": 4
 },
 "nbformat": 4,
 "nbformat_minor": 2
}
